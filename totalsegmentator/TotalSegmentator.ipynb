{
 "cells": [
  {
   "cell_type": "markdown",
   "id": "4f3eb64e",
   "metadata": {},
   "source": [
    "# TotalSegmentator\n",
    "\n",
    "### Robust segmentation of 104 anatomic structures in ct images\n",
    "\n",
    "Kindly install the TotalSegmentator package following the steps described in: https://github.com/wasserth/TotalSegmentator"
   ]
  },
  {
   "cell_type": "code",
   "execution_count": 1,
   "id": "6a553a26",
   "metadata": {},
   "outputs": [],
   "source": [
    "\"\"\"\n",
    "KB Girum\n",
    "Script to run the totalsegmentator batchwise \n",
    "\"\"\"\n",
    "\n",
    "# import library\n",
    "import os\n",
    "import glob\n",
    "from pathlib import Path\n",
    "\n",
    "import numpy as np\n",
    "from tqdm import tqdm\n",
    "\n",
    "import time \n"
   ]
  },
  {
   "cell_type": "code",
   "execution_count": 2,
   "id": "e6ec7bea",
   "metadata": {},
   "outputs": [],
   "source": [
    "# Paralle computing \n",
    "# import ray \n",
    "# ray.init(log_to_driver=False, num_cpus=os.cpu_count())\n",
    "# @ray.remote(num_cpus=os.cpu_count())\n",
    "# def worker(path_id):\n",
    "#     !TotalSegmentator  -i  {path_id} -o segmentations --ml "
   ]
  },
  {
   "cell_type": "markdown",
   "id": "d059b52a",
   "metadata": {},
   "source": [
    "### 1.  Prepare the data (CT in .nii.gz format) as in the following file structure\n",
    "\n",
    "MainFolder <br>\n",
    "------patient1  <br>\n",
    "---------CT  <br>\n",
    "------------name.nii.gz  <br>\n",
    "\n",
    "------patient2  <br>\n",
    "---------CT  <br>\n",
    "------------name.nii.gz  <br>\n",
    ".<br>\n",
    ".<br>\n",
    ".<br>\n",
    "------patientN  <br>\n",
    "---------CT  <br>\n",
    "------------name.nii.gz  <br>\n",
    "\n",
    "The folder names such as MainFolder, patient1, patient2 .. patientN, name.nii.gz could be any name.\n",
    "\n",
    "### 2. For each patient id, segmented anatomical structures will be saved under subfoder \"organ_segmentation\""
   ]
  },
  {
   "cell_type": "code",
   "execution_count": 3,
   "id": "d5b943bd",
   "metadata": {},
   "outputs": [],
   "source": [
    "# Provide the path to the main folder consistes of data under the main folder name (e.g., MainFolder) with\n",
    "# subfolder patient ids and CT subfolder as described above. \n",
    "\n",
    "# path to the data (e.g., with main folder name \"MainFolder\")\n",
    "data_path = r\"....givethepath../MainFolder/\"\n",
    "\n",
    "# get list of all patient ids \n",
    "all_cases = os.listdir(data_path)\n",
    "# save cases not segmented by TotalSegmentator. \n",
    "# The reason could be not readable .nii.gz file or empty folder \n",
    "cases_not_segmented = []\n",
    "\n",
    "# to get the computating time\n",
    "start_time = time.time()\n",
    "\n",
    "# read all cases \n",
    "for id in tqdm(all_cases):\n",
    "    path_id = os.path.join(data_path, str(id), \"CT\")\n",
    "    path_id_ct = [ id_here for id_here in glob.glob(path_id + '/*.nii.gz')]\n",
    "    if not len(path_id_ct):\n",
    "        print(f\" {id} file not found {path_id_ct}\")\n",
    "    else: \n",
    "        print(path_id)\n",
    "        path_id_ct = path_id_ct[0]\n",
    "        \n",
    "        # Create a subfolder named \"organ_segmentation\" beside the subfolder \"CT\"\n",
    "        path_save = os.path.join(data_path, str(id), \"organ_segmentation\")\n",
    "        if not os.path.isdir(path_save):\n",
    "            os.mkdir(path_save) \n",
    "        else:\n",
    "            print(f\"patient {id} already segmented before\")\n",
    "#             continue # uncomment not to segment it again if already segmented \n",
    "\n",
    "        print(f'segmentation will be saved in: {path_save}')\n",
    "        os.chdir(path_save)\n",
    "        try:\n",
    "            !TotalSegmentator  -i  {path_id_ct} -o segmentations --fast #--roi_subset\n",
    "        except:\n",
    "            cases_not_segmented.append(id)\n",
    "            pass \n",
    "print('== total computing time in seconds ==', (time.time()-start_time))\n",
    "print(f\"list of cases not segmented {cases_not_segmented}\")\n"
   ]
  },
  {
   "cell_type": "code",
   "execution_count": null,
   "id": "a1c1d85f",
   "metadata": {},
   "outputs": [],
   "source": []
  }
 ],
 "metadata": {
  "kernelspec": {
   "display_name": "Python 3 (ipykernel)",
   "language": "python",
   "name": "python3"
  },
  "language_info": {
   "codemirror_mode": {
    "name": "ipython",
    "version": 3
   },
   "file_extension": ".py",
   "mimetype": "text/x-python",
   "name": "python",
   "nbconvert_exporter": "python",
   "pygments_lexer": "ipython3",
   "version": "3.9.7"
  }
 },
 "nbformat": 4,
 "nbformat_minor": 5
}
